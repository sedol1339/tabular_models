{
 "cells": [
  {
   "cell_type": "code",
   "execution_count": null,
   "metadata": {},
   "outputs": [],
   "source": [
    "%run imports.py\n",
    "%config InlineBackend.figure_formats = ['svg']"
   ]
  },
  {
   "cell_type": "code",
   "execution_count": null,
   "metadata": {},
   "outputs": [],
   "source": [
    "'''\n",
    "Загрузка датасета\n",
    "Визуализация таблицы признаков\n",
    "Визуализация графиков обучения Catboost_baseline\n",
    "Метрика списка моделей (по всем фолдам)\n",
    "    ось Y - test-фолд + номер модели, также модели разными цветами и символами\n",
    "    В обоих списках:\n",
    "        ConstantPredictor\n",
    "        Catboost_baseline\n",
    "    В первом списке:\n",
    "        Linear_l2_OHE_standard (создать)\n",
    "        Linear_l2_TE_standard (создать)\n",
    "        Linear_l1_num_standard (создать)\n",
    "        Linear_l2_num_standard\n",
    "        Linear_l2_num_quantileUniform\n",
    "        Linear_l2_num_quantileNormal\n",
    "        Linear_l2_num_auto\n",
    "        Linear_l2_num_featureWisePreproc (создать)\n",
    "    Во втором списке:\n",
    "        CatboostLinear_* для всех Linear_* (создать)\n",
    "    # В третьем списке:\n",
    "    #    Catboost_init_from_SmallCatBoost (следить за соответствием trainval-деления)\n",
    "Для каждого num-признака и всех test-фолдов:\n",
    "    совместное распределение с таргетом в trainval-выборке (только для нулевого фолда)\n",
    "    график для GAM: сatboost глубины 1 (создать)\n",
    "    коэффициенты бутстрап-корреляции\n",
    "    результаты single-feature моделей:\n",
    "        SingleFeature_Num_Linear_QuantileUniform\n",
    "        SingleFeature_Num_Linear_QuantileNormal\n",
    "        SingleFeature_Num_Tree2Leaves\n",
    "        SingleFeature_Num_Tree3Leaves\n",
    "    для всех linear-моделей:\n",
    "        коэффициенты\n",
    "'''"
   ]
  },
  {
   "cell_type": "code",
   "execution_count": null,
   "metadata": {},
   "outputs": [],
   "source": [
    "store = DataStore('/data/tabular_data')\n",
    "dataset_infos = store.list_datasets()\n",
    "metrics = {\n",
    "    TaskType.REGRESSION: 'r2',\n",
    "    TaskType.BINARY: 'neg_log_loss',\n",
    "    TaskType.MULTICLASS: 'neg_log_loss',\n",
    "}\n",
    "# ready_results = store.list_results()\n",
    "# store.plot_results_readiness(ready_results, folds=10)\n",
    "dataset_name = 'cmc'\n",
    "dataset = store.load_dataset(dataset_name)"
   ]
  },
  {
   "cell_type": "code",
   "execution_count": null,
   "metadata": {},
   "outputs": [],
   "source": [
    "dataset.Xy"
   ]
  },
  {
   "cell_type": "code",
   "execution_count": null,
   "metadata": {},
   "outputs": [],
   "source": [
    "visualize_feature_matrix(dataset.Xy)"
   ]
  },
  {
   "cell_type": "code",
   "execution_count": null,
   "metadata": {},
   "outputs": [],
   "source": []
  }
 ],
 "metadata": {
  "kernelspec": {
   "display_name": "venv",
   "language": "python",
   "name": "python3"
  },
  "language_info": {
   "codemirror_mode": {
    "name": "ipython",
    "version": 3
   },
   "file_extension": ".py",
   "mimetype": "text/x-python",
   "name": "python",
   "nbconvert_exporter": "python",
   "pygments_lexer": "ipython3",
   "version": "3.10.8"
  }
 },
 "nbformat": 4,
 "nbformat_minor": 2
}
