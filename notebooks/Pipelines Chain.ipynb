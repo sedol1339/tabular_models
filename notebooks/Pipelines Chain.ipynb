{
 "cells": [
  {
   "cell_type": "code",
   "execution_count": null,
   "metadata": {},
   "outputs": [],
   "source": [
    "%run imports.py"
   ]
  },
  {
   "cell_type": "code",
   "execution_count": null,
   "metadata": {},
   "outputs": [],
   "source": [
    "store = DataStore('/data/tabular_data')\n",
    "dataset = store.load_dataset('rainfall_bangladesh', 0)\n",
    "print(dataset.task_type)\n",
    "# assert dataset.task_type != TaskType.REGRESSION\n",
    "\n",
    "metric = {\n",
    "    TaskType.REGRESSION: 'd2_absolute_error',\n",
    "    TaskType.BINARY: 'neg_log_loss',\n",
    "    TaskType.MULTICLASS: 'neg_log_loss',\n",
    "}[dataset.task_type]\n",
    "\n",
    "print([dataset.X[col].dtype == 'category' for col in dataset.X.columns])\n",
    "\n",
    "dataset.X_train"
   ]
  },
  {
   "cell_type": "code",
   "execution_count": null,
   "metadata": {},
   "outputs": [],
   "source": [
    "done_results: dict[tuple[str, str], PipelineResult] = {}\n",
    "\n",
    "for pipeline_name, split in [\n",
    "    ('ConstantPredictor', 'none'),\n",
    "    ('SingleFeature_Num_Correlation', 'none'),\n",
    "    ('SingleFeature_Num_Linear_Standard', 'none'),\n",
    "    ('SingleFeature_Num_Linear_QuantileUniform', 'none'),\n",
    "    ('SingleFeature_Num_Linear_QuantileNormal', 'none'),\n",
    "    ('SingleFeature_Num_Tree2Leaves', 'none'),\n",
    "    ('SingleFeature_Num_Tree3Leaves', 'none'),\n",
    "    ('Linear_l2_OHE_standard', 'none'),\n",
    "    ('Linear_l2_TE_standard', 'none'),\n",
    "    ('Linear_l1_num_standard', 'none'),\n",
    "    ('Linear_l2_num_standard', 'none'),\n",
    "    ('Linear_l2_num_quantileUniform', 'none'),\n",
    "    ('Linear_l2_num_quantileNormal', 'none'),\n",
    "    ('Linear_l2_num_auto', 'none'),\n",
    "    ('Linear_l2_num_featureWisePreproc', 'none'),\n",
    "    ('Catboost_baseline', 'cv5_seed0_fold0'),\n",
    "    ('Catboost_init[Linear_l2_OHE_standard]', 'cv5_seed0_fold0'),\n",
    "    ('Catboost_init[Linear_l2_TE_standard]', 'cv5_seed0_fold0'),\n",
    "    ('Catboost_init[Linear_l1_num_standard]', 'cv5_seed0_fold0'),\n",
    "    ('Catboost_init[Linear_l2_num_standard]', 'cv5_seed0_fold0'),\n",
    "    ('Catboost_init[Linear_l2_num_quantileUniform]', 'cv5_seed0_fold0'),\n",
    "    ('Catboost_init[Linear_l2_num_quantileNormal]', 'cv5_seed0_fold0'),\n",
    "    ('Catboost_init[Linear_l2_num_auto]', 'cv5_seed0_fold0'),\n",
    "    ('Catboost_init[Linear_l2_num_featureWisePreproc]', 'cv5_seed0_fold0'),\n",
    "]:\n",
    "    new_result = get_pipeline_object(pipeline_name).run(\n",
    "        DatasetSplitter.from_string(split).split(dataset), done_results\n",
    "    )\n",
    "    done_results[(pipeline_name, split)] = new_result\n",
    "    print(pipeline_name)\n",
    "    try:\n",
    "        scores_df = new_result.scores.scores_df.filter(bootstrap_seed=None).drop(\n",
    "            'bootstrap_seed'\n",
    "        )\n",
    "        print('\\n'.join(str(scores_df).split('\\n')[6:-1]))\n",
    "    except:\n",
    "        print('no scores')"
   ]
  },
  {
   "cell_type": "code",
   "execution_count": null,
   "metadata": {},
   "outputs": [],
   "source": [
    "import re\n",
    "re.fullmatch(r'([^\\[\\]]+)\\[([^\\[\\]]+)\\]', 'a[b]').groups()"
   ]
  },
  {
   "cell_type": "code",
   "execution_count": null,
   "metadata": {},
   "outputs": [],
   "source": []
  }
 ],
 "metadata": {
  "kernelspec": {
   "display_name": "venv",
   "language": "python",
   "name": "python3"
  },
  "language_info": {
   "codemirror_mode": {
    "name": "ipython",
    "version": 3
   },
   "file_extension": ".py",
   "mimetype": "text/x-python",
   "name": "python",
   "nbconvert_exporter": "python",
   "pygments_lexer": "ipython3",
   "version": "3.10.8"
  }
 },
 "nbformat": 4,
 "nbformat_minor": 2
}
