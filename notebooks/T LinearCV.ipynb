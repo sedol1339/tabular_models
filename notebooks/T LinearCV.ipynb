{
 "cells": [
  {
   "cell_type": "code",
   "execution_count": 1,
   "metadata": {},
   "outputs": [],
   "source": [
    "%run imports.py"
   ]
  },
  {
   "cell_type": "code",
   "execution_count": null,
   "metadata": {
    "tags": [
     "parameters"
    ]
   },
   "outputs": [],
   "source": [
    "store = DataStore('/data/tabular_data')\n",
    "dataset = store.load_dataset('adult', 0)\n",
    "print(dataset.task_type)\n",
    "\n",
    "metric = {\n",
    "    TaskType.REGRESSION: 'd2_absolute_error',\n",
    "    TaskType.BINARY: 'neg_log_loss',\n",
    "    TaskType.MULTICLASS: 'neg_log_loss',\n",
    "}[dataset.task_type]\n",
    "\n",
    "pd.concat([dataset.y.rename('TARGET'), dataset.X], axis='columns')"
   ]
  },
  {
   "cell_type": "code",
   "execution_count": 3,
   "metadata": {},
   "outputs": [
    {
     "data": {
      "text/plain": [
       "<tabular_models.models.linear.LinearCV at 0x7f8f0eb4bc10>"
      ]
     },
     "execution_count": 3,
     "metadata": {},
     "output_type": "execute_result"
    }
   ],
   "source": [
    "class Preproc(AbstractPreprocConstructor):\n",
    "    def get_num_transform(self) -> PreprocType | Literal['skip']:\n",
    "        return PreprocType.STANDARD\n",
    "    def get_cat_transform(self) -> PreprocType | Literal['skip', 'auto']:\n",
    "        return 'skip'\n",
    "\n",
    "preproc = Preproc().get_preproc(dataset)\n",
    "\n",
    "model = LinearCV(\n",
    "    task_type=dataset.task_type,\n",
    "    reg_type='l2',\n",
    "    preproc=preproc,\n",
    "    y_transform='standard',\n",
    ")\n",
    "\n",
    "model.fit(dataset.X_train, dataset.y_train)"
   ]
  },
  {
   "cell_type": "code",
   "execution_count": 4,
   "metadata": {},
   "outputs": [
    {
     "name": "stdout",
     "output_type": "stream",
     "text": [
      "neg_log_loss\n",
      "[-0.4205322  -0.41336508 -0.40262261]\n",
      "[-0.40961409 -0.40594572 -0.40296785]\n"
     ]
    }
   ],
   "source": [
    "subsets = ['train', 'test']\n",
    "if 'val' in dataset.iloc:\n",
    "    subsets.append('val')\n",
    "\n",
    "scores = default_scoring(\n",
    "    Predictions(model.predict(dataset.X), dataset=dataset),\n",
    "    subsets=subsets,\n",
    ")\n",
    "\n",
    "cross_val_preds = Predictions(\n",
    "    model.cross_val_predict(dataset.X_trainval, dataset.y_trainval),\n",
    "    dataset.y_trainval,\n",
    "    dataset.task_type,\n",
    "    iloc={'cross_val': np.arange(len(dataset.y_trainval))},\n",
    ")\n",
    "cross_val_scores = default_scoring(\n",
    "    cross_val_preds, subsets=['cross_val']\n",
    ")\n",
    "\n",
    "scores=Scores.concat([scores, cross_val_scores])\n",
    "\n",
    "print(metric)\n",
    "print(scores.bootstrap_quantiles('test', metric, (0.1, 0.5, 0.9)))\n",
    "print(scores.bootstrap_quantiles('cross_val', metric, (0.1, 0.5, 0.9)))"
   ]
  },
  {
   "cell_type": "code",
   "execution_count": null,
   "metadata": {},
   "outputs": [],
   "source": []
  }
 ],
 "metadata": {
  "kernelspec": {
   "display_name": "Python 3 (ipykernel)",
   "language": "python",
   "name": "python3"
  },
  "language_info": {
   "codemirror_mode": {
    "name": "ipython",
    "version": 3
   },
   "file_extension": ".py",
   "mimetype": "text/x-python",
   "name": "python",
   "nbconvert_exporter": "python",
   "pygments_lexer": "ipython3",
   "version": "3.10.8"
  }
 },
 "nbformat": 4,
 "nbformat_minor": 4
}
