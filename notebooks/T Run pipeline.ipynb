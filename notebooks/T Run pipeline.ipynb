{
 "cells": [
  {
   "cell_type": "code",
   "execution_count": 1,
   "metadata": {},
   "outputs": [],
   "source": [
    "%run imports.py"
   ]
  },
  {
   "cell_type": "code",
   "execution_count": null,
   "metadata": {},
   "outputs": [],
   "source": [
    "store = DataStore('/data/tabular_data')\n",
    "dataset = store.load_dataset('rossmann_store_sales', 0)\n",
    "dataset = DatasetSplitter.from_string('cv5_seed0_fold0').split(dataset)\n",
    "print(dataset.task_type)\n",
    "\n",
    "metric = {\n",
    "    TaskType.REGRESSION: 'd2_absolute_error',\n",
    "    TaskType.BINARY: 'neg_log_loss',\n",
    "    TaskType.MULTICLASS: 'neg_log_loss',\n",
    "}[dataset.task_type]"
   ]
  },
  {
   "cell_type": "code",
   "execution_count": null,
   "metadata": {},
   "outputs": [],
   "source": [
    "result = SingleFeature_Num_Correlation().run(dataset, {})"
   ]
  },
  {
   "cell_type": "code",
   "execution_count": null,
   "metadata": {},
   "outputs": [],
   "source": []
  }
 ],
 "metadata": {
  "kernelspec": {
   "display_name": "Python 3 (ipykernel)",
   "language": "python",
   "name": "python3"
  },
  "language_info": {
   "codemirror_mode": {
    "name": "ipython",
    "version": 3
   },
   "file_extension": ".py",
   "mimetype": "text/x-python",
   "name": "python",
   "nbconvert_exporter": "python",
   "pygments_lexer": "ipython3",
   "version": "3.10.8"
  }
 },
 "nbformat": 4,
 "nbformat_minor": 4
}
