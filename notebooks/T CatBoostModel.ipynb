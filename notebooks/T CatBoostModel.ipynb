{
 "cells": [
  {
   "cell_type": "code",
   "execution_count": null,
   "metadata": {},
   "outputs": [],
   "source": [
    "%run imports.py"
   ]
  },
  {
   "cell_type": "code",
   "execution_count": null,
   "metadata": {},
   "outputs": [],
   "source": [
    "store = DataStore('/data/tabular_data')\n",
    "dataset = store.load_dataset('Australian', 0)\n",
    "dataset = DatasetSplitter.from_string('cv5_seed0_fold0').split(dataset)\n",
    "print(dataset.task_type)\n",
    "\n",
    "metric = {\n",
    "    TaskType.REGRESSION: 'd2_absolute_error',\n",
    "    TaskType.BINARY: 'neg_log_loss',\n",
    "    TaskType.MULTICLASS: 'neg_log_loss',\n",
    "}[dataset.task_type]"
   ]
  },
  {
   "cell_type": "code",
   "execution_count": null,
   "metadata": {},
   "outputs": [],
   "source": [
    "kwargs = Bunch()\n",
    "kwargs.thread_count = 32\n",
    "kwargs.task_type = 'GPU'\n",
    "kwargs.depth = 16\n",
    "kwargs.learning_rate = 0.1\n",
    "kwargs.metric_period = 1\n",
    "if dataset.task_type == TaskType.REGRESSION:\n",
    "    kwargs.loss_function = 'RMSEWithUncertainty'\n",
    "    # kwargs.loss_function = 'RMSE'\n",
    "    kwargs.eval_metric = 'RMSE'\n",
    "elif dataset.task_type == TaskType.BINARY:\n",
    "    kwargs.loss_function = 'Logloss'\n",
    "    kwargs.eval_metric = 'AUC'\n",
    "elif dataset.task_type == TaskType.MULTICLASS:\n",
    "    kwargs.loss_function = 'MultiClass'\n",
    "    kwargs.eval_metric = 'MultiClass'\n",
    "kwargs.grow_policy = 'Lossguide'\n",
    "kwargs.random_strength = 0\n",
    "kwargs.bootstrap_type = 'No'\n",
    "kwargs.l2_leaf_reg = 0.1\n",
    "\n",
    "model = CatBoostModel(dataset.task_type, catboost_kwargs=kwargs)\n",
    "\n",
    "model.fit(\n",
    "    dataset.X_train,\n",
    "    dataset.y_train,\n",
    "    eval_set=(dataset.X_val, dataset.y_val),\n",
    "    use_best_model=False,\n",
    "    max_iterations=1_000_000,\n",
    "    early_stopping_rounds=1_000,\n",
    "    verbose=1,\n",
    ")"
   ]
  },
  {
   "cell_type": "code",
   "execution_count": null,
   "metadata": {},
   "outputs": [],
   "source": [
    "evals = model.catboost_model.get_evals_result()\n",
    "keys = list(evals['learn'].keys())\n",
    "keys"
   ]
  },
  {
   "cell_type": "code",
   "execution_count": null,
   "metadata": {},
   "outputs": [],
   "source": [
    "fig, axs = plt.subplots(\n",
    "    nrows=len(keys), ncols=2, figsize=(6, 2*len(keys)), squeeze=False\n",
    ")\n",
    "\n",
    "steps = np.arange(len(evals['learn'][keys[0]]))\n",
    "\n",
    "s = slice(1, None)\n",
    "\n",
    "for i, key in enumerate(keys):\n",
    "\n",
    "    axs[i, 0].set_title(f'train {key}')\n",
    "    axs[i, 0].plot(steps[s], evals['learn'][key][s])\n",
    "\n",
    "    axs[i, 1].set_title(f'val {key}')\n",
    "    axs[i, 1].plot(steps[s], evals['validation'][key][s])\n",
    "\n",
    "    axs[i, 0].set_xscale('log')\n",
    "    axs[i, 1].set_xscale('log')\n",
    "\n",
    "    if key == 'Logloss':\n",
    "        axs[i, 0].set_yscale('log')\n",
    "        axs[i, 1].set_yscale('log')\n",
    "\n",
    "plt.tight_layout()\n",
    "plt.show()"
   ]
  },
  {
   "cell_type": "code",
   "execution_count": null,
   "metadata": {},
   "outputs": [],
   "source": []
  }
 ],
 "metadata": {
  "kernelspec": {
   "display_name": "venv",
   "language": "python",
   "name": "python3"
  },
  "language_info": {
   "codemirror_mode": {
    "name": "ipython",
    "version": 3
   },
   "file_extension": ".py",
   "mimetype": "text/x-python",
   "name": "python",
   "nbconvert_exporter": "python",
   "pygments_lexer": "ipython3",
   "version": "3.10.8"
  }
 },
 "nbformat": 4,
 "nbformat_minor": 2
}
