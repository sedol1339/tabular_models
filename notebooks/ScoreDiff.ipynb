{
 "cells": [
  {
   "cell_type": "code",
   "execution_count": 1,
   "metadata": {},
   "outputs": [],
   "source": [
    "%run imports.py"
   ]
  },
  {
   "cell_type": "code",
   "execution_count": 2,
   "metadata": {},
   "outputs": [],
   "source": [
    "store = DataStore('/data/tabular_data')\n",
    "dataset_infos = store.list_datasets()\n",
    "metrics = {\n",
    "    TaskType.REGRESSION: 'r2',\n",
    "    TaskType.BINARY: 'neg_log_loss',\n",
    "    TaskType.MULTICLASS: 'neg_log_loss',\n",
    "}\n",
    "# ready_results = store.list_results()\n",
    "# store.plot_results_readiness(ready_results, folds=10)"
   ]
  },
  {
   "cell_type": "code",
   "execution_count": 3,
   "metadata": {},
   "outputs": [],
   "source": [
    "s1 = store.load_pipeline_field(\n",
    "    'Moneyball', 0, 'Catboost_baseline', 'cv5_seed0_fold0', field='scores'\n",
    ")\n",
    "s2 = store.load_pipeline_field(\n",
    "    'Moneyball', 0, 'Catboost_baseline', 'cv5_seed0_fold1', field='scores'\n",
    ")"
   ]
  },
  {
   "cell_type": "code",
   "execution_count": null,
   "metadata": {},
   "outputs": [],
   "source": [
    "(s1 - s2).bootstraps('test', metrics)"
   ]
  },
  {
   "cell_type": "code",
   "execution_count": null,
   "metadata": {},
   "outputs": [],
   "source": []
  }
 ],
 "metadata": {
  "kernelspec": {
   "display_name": "Python 3 (ipykernel)",
   "language": "python",
   "name": "python3"
  },
  "language_info": {
   "codemirror_mode": {
    "name": "ipython",
    "version": 3
   },
   "file_extension": ".py",
   "mimetype": "text/x-python",
   "name": "python",
   "nbconvert_exporter": "python",
   "pygments_lexer": "ipython3",
   "version": "3.10.8"
  }
 },
 "nbformat": 4,
 "nbformat_minor": 4
}
